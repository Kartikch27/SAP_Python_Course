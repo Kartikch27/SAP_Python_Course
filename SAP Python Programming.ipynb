{
 "cells": [
  {
   "cell_type": "markdown",
   "id": "f583a162",
   "metadata": {},
   "source": [
    "# DAY 1"
   ]
  },
  {
   "cell_type": "code",
   "execution_count": 1,
   "id": "8e973b90",
   "metadata": {},
   "outputs": [
    {
     "name": "stdout",
     "output_type": "stream",
     "text": [
      "140710367106120\n"
     ]
    }
   ],
   "source": [
    "x=10\n",
    "print(id(x))"
   ]
  },
  {
   "cell_type": "code",
   "execution_count": 2,
   "id": "6b95fef7",
   "metadata": {},
   "outputs": [
    {
     "name": "stdout",
     "output_type": "stream",
     "text": [
      "140710367106120 140710367106152 140710367106184\n"
     ]
    }
   ],
   "source": [
    "x=10\n",
    "y=11\n",
    "z=12\n",
    "print(id(x),id(y),id(z))"
   ]
  },
  {
   "cell_type": "code",
   "execution_count": 3,
   "id": "e56c0dcb",
   "metadata": {},
   "outputs": [
    {
     "name": "stdout",
     "output_type": "stream",
     "text": [
      "hello\n",
      "hello\n",
      "Hello\n",
      "hello\n"
     ]
    }
   ],
   "source": [
    "myvar=\"hello\"           #variable declaration types\n",
    "my_var=\"hello\"\n",
    "_my_var=\"Hello\"\n",
    "Myvar=\"hello\"\n",
    "\n",
    "print(myvar)\n",
    "print(my_var)\n",
    "print(_my_var)\n",
    "print(Myvar)"
   ]
  },
  {
   "cell_type": "code",
   "execution_count": 4,
   "id": "71995f1d",
   "metadata": {},
   "outputs": [
    {
     "name": "stdout",
     "output_type": "stream",
     "text": [
      "10\n"
     ]
    }
   ],
   "source": [
    "def hello():\n",
    "    a=10\n",
    "    print(a)    #local variable\n",
    "    return\n",
    "hello()"
   ]
  },
  {
   "cell_type": "code",
   "execution_count": 5,
   "id": "8448df83",
   "metadata": {},
   "outputs": [
    {
     "name": "stdout",
     "output_type": "stream",
     "text": [
      "Welcome to Code Unnati 2.0\n"
     ]
    }
   ],
   "source": [
    "a= \"Welcome to Code Unnati 2.0\" # Gloabal variable\n",
    "def hello():\n",
    "    a=20\n",
    "    print(a)    #local variable\n",
    "    return\n",
    "print(a)"
   ]
  },
  {
   "cell_type": "code",
   "execution_count": 6,
   "id": "f5d13328",
   "metadata": {},
   "outputs": [
    {
     "name": "stdout",
     "output_type": "stream",
     "text": [
      "10\n",
      "<class 'int'>\n"
     ]
    }
   ],
   "source": [
    "#this is integer Datatype\n",
    "\n",
    "a=10\n",
    "print(a)\n",
    "print(type(a))"
   ]
  },
  {
   "cell_type": "code",
   "execution_count": 7,
   "id": "36765b67",
   "metadata": {},
   "outputs": [
    {
     "name": "stdout",
     "output_type": "stream",
     "text": [
      "10 11 12 13\n"
     ]
    }
   ],
   "source": [
    "#Multiple assignment\n",
    "b,c,d =11,12,13\n",
    "print(a,b,c,d)"
   ]
  },
  {
   "cell_type": "code",
   "execution_count": 8,
   "id": "1443e570",
   "metadata": {},
   "outputs": [
    {
     "name": "stdout",
     "output_type": "stream",
     "text": [
      "8\n"
     ]
    }
   ],
   "source": [
    "# addition ,sub, mul,dic :- +,-,*,/ etc\n",
    "x=5\n",
    "y=3\n",
    "print(x+y)"
   ]
  },
  {
   "cell_type": "code",
   "execution_count": 9,
   "id": "787352a6",
   "metadata": {},
   "outputs": [
    {
     "name": "stdout",
     "output_type": "stream",
     "text": [
      "1.6666666666666667\n"
     ]
    }
   ],
   "source": [
    "x=5\n",
    "y=3\n",
    "print(x/y)    #division"
   ]
  },
  {
   "cell_type": "code",
   "execution_count": 10,
   "id": "d768c53f",
   "metadata": {},
   "outputs": [
    {
     "name": "stdout",
     "output_type": "stream",
     "text": [
      "1\n"
     ]
    }
   ],
   "source": [
    "x=5\n",
    "y=3\n",
    "print(x//y)  #float division"
   ]
  },
  {
   "cell_type": "code",
   "execution_count": 11,
   "id": "3c26359b",
   "metadata": {},
   "outputs": [
    {
     "name": "stdout",
     "output_type": "stream",
     "text": [
      "8\n"
     ]
    }
   ],
   "source": [
    "x=5\n",
    "x+=3\n",
    "print(x)  # Assignment Operator  *= , /= , -/"
   ]
  },
  {
   "cell_type": "code",
   "execution_count": 12,
   "id": "e972b37a",
   "metadata": {},
   "outputs": [
    {
     "name": "stdout",
     "output_type": "stream",
     "text": [
      "False\n"
     ]
    }
   ],
   "source": [
    "# comparsion operator\n",
    "x=5\n",
    "y=3\n",
    "print(x==y)\n",
    "\n",
    "#return false because 5 is not equal to 3"
   ]
  },
  {
   "cell_type": "code",
   "execution_count": 13,
   "id": "f7029f02",
   "metadata": {},
   "outputs": [
    {
     "name": "stdout",
     "output_type": "stream",
     "text": [
      "True\n"
     ]
    }
   ],
   "source": [
    "x=5\n",
    "y=3\n",
    "print(x!=y)  # Not equal"
   ]
  },
  {
   "cell_type": "code",
   "execution_count": 14,
   "id": "36bbea46",
   "metadata": {},
   "outputs": [
    {
     "name": "stdout",
     "output_type": "stream",
     "text": [
      "True\n"
     ]
    }
   ],
   "source": [
    "#logical operator\n",
    "\n",
    "x=5\n",
    "print(x>3 and x<10)\n",
    "\n",
    "#return true both the condition true"
   ]
  },
  {
   "cell_type": "code",
   "execution_count": 15,
   "id": "0a769511",
   "metadata": {},
   "outputs": [
    {
     "name": "stdout",
     "output_type": "stream",
     "text": [
      "True\n"
     ]
    }
   ],
   "source": [
    "x=5\n",
    "print(x>3 or x<10)\n",
    "\n",
    "# retur true one of the condition is true"
   ]
  },
  {
   "cell_type": "code",
   "execution_count": 16,
   "id": "5cbcff03",
   "metadata": {},
   "outputs": [
    {
     "name": "stdout",
     "output_type": "stream",
     "text": [
      "False\n"
     ]
    }
   ],
   "source": [
    "x=5\n",
    "print(not(x>3 and x<10))\n",
    "\n",
    "# return false not is used to reverse the conditions"
   ]
  },
  {
   "cell_type": "code",
   "execution_count": 17,
   "id": "6195ac35",
   "metadata": {},
   "outputs": [
    {
     "name": "stdout",
     "output_type": "stream",
     "text": [
      "Enter the value of x: 5\n",
      "Enter the value of y: 6\n",
      "30\n"
     ]
    }
   ],
   "source": [
    "# user input\n",
    "\n",
    "x= int(input(\"Enter the value of x: \"))\n",
    "\n",
    "y= int(input(\"Enter the value of y: \"))\n",
    "\n",
    "z=x*y\n",
    "\n",
    "print(z)"
   ]
  },
  {
   "cell_type": "code",
   "execution_count": 18,
   "id": "41a90cbd",
   "metadata": {},
   "outputs": [
    {
     "name": "stdout",
     "output_type": "stream",
     "text": [
      "Enter the value of x: 5.2\n",
      "Enter the value of y: 2.3\n",
      "11.959999999999999\n"
     ]
    }
   ],
   "source": [
    "# user input in float\n",
    "x= float(input(\"Enter the value of x: \"))\n",
    "\n",
    "y= float(input(\"Enter the value of y: \"))\n",
    "\n",
    "z=x*y\n",
    "\n",
    "print(z)"
   ]
  },
  {
   "cell_type": "code",
   "execution_count": 19,
   "id": "a942cd69",
   "metadata": {},
   "outputs": [
    {
     "name": "stdout",
     "output_type": "stream",
     "text": [
      "   Python is a programming language\n"
     ]
    }
   ],
   "source": [
    "# String\n",
    "\n",
    "Statement =\"   Python is a programming language\"\n",
    "print(Statement)"
   ]
  },
  {
   "cell_type": "code",
   "execution_count": 20,
   "id": "94ad4a34",
   "metadata": {},
   "outputs": [
    {
     "name": "stdout",
     "output_type": "stream",
     "text": [
      "<class 'str'>\n"
     ]
    }
   ],
   "source": [
    "print(type(Statement))  #type is used to check the datatype"
   ]
  },
  {
   "cell_type": "code",
   "execution_count": 21,
   "id": "2ff3cd83",
   "metadata": {},
   "outputs": [
    {
     "name": "stdout",
     "output_type": "stream",
     "text": [
      "  \n",
      " Python is a programming language  \n",
      " Python is a programming language  \n",
      " Python is a programming language  \n",
      " Python is a programming language  \n",
      " Python is a programming language  \n",
      " Python is a programming language\n"
     ]
    }
   ],
   "source": [
    "Statement =\"  \\n Python is a programming language\" * 6    #repetition operator(*)\n",
    "print(Statement)"
   ]
  },
  {
   "cell_type": "code",
   "execution_count": 22,
   "id": "ebda819d",
   "metadata": {},
   "outputs": [
    {
     "name": "stdout",
     "output_type": "stream",
     "text": [
      "Python is a programming language Welcome the code unnati 2.0\n"
     ]
    }
   ],
   "source": [
    "Statement =\"Python is a programming language\" + \" Welcome the code unnati 2.0\"   #Concatenation operator(+)\n",
    "print(Statement)"
   ]
  },
  {
   "cell_type": "code",
   "execution_count": 7,
   "id": "4e3d7d1b",
   "metadata": {},
   "outputs": [
    {
     "data": {
      "text/plain": [
       "'python is a programming language'"
      ]
     },
     "execution_count": 7,
     "metadata": {},
     "output_type": "execute_result"
    }
   ],
   "source": [
    "# Method in python strings\n",
    "\n",
    "Statement1 =\"Python is a Programming language\"\n",
    "\n",
    "Statement1.lower()  #lower method\n"
   ]
  },
  {
   "cell_type": "code",
   "execution_count": 28,
   "id": "0fa3a714",
   "metadata": {},
   "outputs": [
    {
     "data": {
      "text/plain": [
       "'PYTHON IS A PROGRAMMING LANGUAGE'"
      ]
     },
     "execution_count": 28,
     "metadata": {},
     "output_type": "execute_result"
    }
   ],
   "source": [
    "\n",
    "Statement1 =\"Python is a Programming language\"\n",
    "\n",
    "Statement1.upper()  #Upper method"
   ]
  },
  {
   "cell_type": "code",
   "execution_count": 29,
   "id": "ac94b158",
   "metadata": {},
   "outputs": [
    {
     "data": {
      "text/plain": [
       "'Python Is A Programming Language'"
      ]
     },
     "execution_count": 29,
     "metadata": {},
     "output_type": "execute_result"
    }
   ],
   "source": [
    "Statement1 =\"     Python is a Programming language\"\n",
    "\n",
    "Statement1.title()  #Title method to convert text into snakewrting"
   ]
  },
  {
   "cell_type": "code",
   "execution_count": 32,
   "id": "12c833fb",
   "metadata": {},
   "outputs": [
    {
     "data": {
      "text/plain": [
       "'Python is a programming language'"
      ]
     },
     "execution_count": 32,
     "metadata": {},
     "output_type": "execute_result"
    }
   ],
   "source": [
    "# Strip method\n",
    "Statement.lstrip()   #remove space from left side"
   ]
  },
  {
   "cell_type": "code",
   "execution_count": 33,
   "id": "7b0a361f",
   "metadata": {},
   "outputs": [
    {
     "data": {
      "text/plain": [
       "'Python is a programming language'"
      ]
     },
     "execution_count": 33,
     "metadata": {},
     "output_type": "execute_result"
    }
   ],
   "source": [
    "# Strip method\n",
    "Statement.rstrip()   #remove space from right side"
   ]
  },
  {
   "cell_type": "code",
   "execution_count": 34,
   "id": "a49c5d68",
   "metadata": {},
   "outputs": [
    {
     "data": {
      "text/plain": [
       "'Python is a programming language'"
      ]
     },
     "execution_count": 34,
     "metadata": {},
     "output_type": "execute_result"
    }
   ],
   "source": [
    "# Strip method\n",
    "Statement.strip()   #remove space from both side"
   ]
  },
  {
   "cell_type": "code",
   "execution_count": 35,
   "id": "271fd575",
   "metadata": {},
   "outputs": [
    {
     "name": "stdout",
     "output_type": "stream",
     "text": [
      "python programming language\n"
     ]
    }
   ],
   "source": [
    "# String formatting are three types\n",
    "\n",
    "# 1.default  2.positional  3.keyword\n",
    "\n",
    "\n",
    "String1 =\"{} {} {}\" .format('python','programming','language')\n",
    "print(String1)"
   ]
  },
  {
   "cell_type": "code",
   "execution_count": 36,
   "id": "0389f236",
   "metadata": {},
   "outputs": [
    {
     "name": "stdout",
     "output_type": "stream",
     "text": [
      "programming python language\n"
     ]
    }
   ],
   "source": [
    "#positional formatting\n",
    "\n",
    "String1 =\"{1} {0} {2}\" .format('python','programming','language')\n",
    "print(String1)"
   ]
  },
  {
   "cell_type": "code",
   "execution_count": 39,
   "id": "0bf0280d",
   "metadata": {},
   "outputs": [
    {
     "name": "stdout",
     "output_type": "stream",
     "text": [
      "python programming language\n"
     ]
    }
   ],
   "source": [
    "# keyword formatting\n",
    "\n",
    "String1 =\"{a} {d} {c}\" .format(a='python',d='programming',c='language')\n",
    "print(String1)"
   ]
  },
  {
   "cell_type": "code",
   "execution_count": 41,
   "id": "a93de7f4",
   "metadata": {},
   "outputs": [
    {
     "name": "stdout",
     "output_type": "stream",
     "text": [
      "Hello, My name is Kartik and I registered for code Unnati Program 2.0\n"
     ]
    }
   ],
   "source": [
    "# insert the string in the string fromats\n",
    "\n",
    "name= 'Kartik'\n",
    "course ='code Unnati Program 2.0'\n",
    "                                                                     #f is format of the string\n",
    "print(f\"Hello, My name is {name} and I registered for {course}\")"
   ]
  },
  {
   "cell_type": "code",
   "execution_count": 3,
   "id": "0ac6213c",
   "metadata": {},
   "outputs": [
    {
     "data": {
      "text/plain": [
       "'T'"
      ]
     },
     "execution_count": 3,
     "metadata": {},
     "output_type": "execute_result"
    }
   ],
   "source": [
    "# String Slicing\n",
    "\n",
    "Str1 =\"TECHNOLOGY\"\n",
    "                                   #positive indexing   0 --> N        start from left to right\n",
    "                                   #negative indexing -1 --> -N     start from right to left\n",
    "Str1[0]\n"
   ]
  },
  {
   "cell_type": "code",
   "execution_count": 44,
   "id": "ce54e620",
   "metadata": {},
   "outputs": [
    {
     "data": {
      "text/plain": [
       "'L'"
      ]
     },
     "execution_count": 44,
     "metadata": {},
     "output_type": "execute_result"
    }
   ],
   "source": [
    "Str1[6]"
   ]
  },
  {
   "cell_type": "code",
   "execution_count": 45,
   "id": "0bf90484",
   "metadata": {},
   "outputs": [
    {
     "data": {
      "text/plain": [
       "'TECHNOL'"
      ]
     },
     "execution_count": 45,
     "metadata": {},
     "output_type": "execute_result"
    }
   ],
   "source": [
    "Str1[0:7]          # 0 to 6"
   ]
  },
  {
   "cell_type": "code",
   "execution_count": 46,
   "id": "7f6959ed",
   "metadata": {},
   "outputs": [
    {
     "data": {
      "text/plain": [
       "'YGOLONHCET'"
      ]
     },
     "execution_count": 46,
     "metadata": {},
     "output_type": "execute_result"
    }
   ],
   "source": [
    "Str1[::-1]\n"
   ]
  },
  {
   "cell_type": "code",
   "execution_count": 4,
   "id": "4b9ce9ac",
   "metadata": {},
   "outputs": [
    {
     "data": {
      "text/plain": [
       "'TECHNOLOGY'"
      ]
     },
     "execution_count": 4,
     "metadata": {},
     "output_type": "execute_result"
    }
   ],
   "source": [
    "Str1[:]"
   ]
  },
  {
   "cell_type": "code",
   "execution_count": 48,
   "id": "84cb6e74",
   "metadata": {},
   "outputs": [
    {
     "data": {
      "text/plain": [
       "'LOG'"
      ]
     },
     "execution_count": 48,
     "metadata": {},
     "output_type": "execute_result"
    }
   ],
   "source": [
    "Str1[-4:-1] "
   ]
  },
  {
   "cell_type": "code",
   "execution_count": null,
   "id": "df934f7f",
   "metadata": {},
   "outputs": [],
   "source": [
    "# python data type  1. Immutable   2.mutable(changeable)\n"
   ]
  },
  {
   "cell_type": "code",
   "execution_count": 49,
   "id": "d1868d42",
   "metadata": {},
   "outputs": [
    {
     "name": "stdout",
     "output_type": "stream",
     "text": [
      "['parul', 22, 'bharat', 45.5, 'vadodara', 99]\n",
      "<class 'list'>\n"
     ]
    }
   ],
   "source": [
    "# create list\n",
    "\n",
    "list1 =[\"parul\",22,\"bharat\",45.5,\"vadodara\",99]\n",
    "print(list1)\n",
    "\n",
    "print(type(list1))"
   ]
  },
  {
   "cell_type": "code",
   "execution_count": 50,
   "id": "e26ab963",
   "metadata": {},
   "outputs": [
    {
     "data": {
      "text/plain": [
       "'parul'"
      ]
     },
     "execution_count": 50,
     "metadata": {},
     "output_type": "execute_result"
    }
   ],
   "source": [
    "list1[0]   #access 1st position item from list\n"
   ]
  },
  {
   "cell_type": "code",
   "execution_count": 51,
   "id": "9c304b39",
   "metadata": {},
   "outputs": [
    {
     "data": {
      "text/plain": [
       "45.5"
      ]
     },
     "execution_count": 51,
     "metadata": {},
     "output_type": "execute_result"
    }
   ],
   "source": [
    "list1[3] #access 4th position\n"
   ]
  },
  {
   "cell_type": "code",
   "execution_count": 52,
   "id": "15e1874d",
   "metadata": {},
   "outputs": [
    {
     "data": {
      "text/plain": [
       "'ru'"
      ]
     },
     "execution_count": 52,
     "metadata": {},
     "output_type": "execute_result"
    }
   ],
   "source": [
    "list1[0][2:4]"
   ]
  },
  {
   "cell_type": "code",
   "execution_count": 53,
   "id": "40c0d394",
   "metadata": {},
   "outputs": [
    {
     "name": "stdout",
     "output_type": "stream",
     "text": [
      "['apple', 'orange', 'cheerr', 'banana']\n"
     ]
    }
   ],
   "source": [
    "# append means adding something\n",
    "\n",
    "fruits = ['apple','orange','cheerr']\n",
    "fruits.append('banana')\n",
    "print(fruits)"
   ]
  },
  {
   "cell_type": "code",
   "execution_count": 55,
   "id": "19b6323b",
   "metadata": {},
   "outputs": [
    {
     "name": "stdout",
     "output_type": "stream",
     "text": [
      "['apple', 'orange', 'cheerr', 'BMW', 'tata']\n"
     ]
    }
   ],
   "source": [
    "#extend \n",
    "\n",
    "fruits = ['apple','orange','cheerr']\n",
    "cars = ['BMW','tata']\n",
    "\n",
    "fruits.extend(cars)\n",
    "print(fruits)"
   ]
  },
  {
   "cell_type": "code",
   "execution_count": 56,
   "id": "e794716f",
   "metadata": {},
   "outputs": [
    {
     "name": "stdout",
     "output_type": "stream",
     "text": [
      "['apple', 'banana', 'orange', 'cheerr']\n"
     ]
    }
   ],
   "source": [
    "# insert\n",
    "\n",
    "fruits = ['apple','orange','cheerr']\n",
    "fruits.insert(1,'banana')\n",
    "print(fruits)"
   ]
  },
  {
   "cell_type": "code",
   "execution_count": 59,
   "id": "8b748dba",
   "metadata": {},
   "outputs": [
    {
     "name": "stdout",
     "output_type": "stream",
     "text": [
      "['apple', 'cheerr']\n"
     ]
    }
   ],
   "source": [
    "#pop method\n",
    "\n",
    "fruits = ['apple','orange','cheerr']\n",
    "fruits.pop(1)\n",
    "print(fruits)"
   ]
  },
  {
   "cell_type": "code",
   "execution_count": 2,
   "id": "189e2f89",
   "metadata": {},
   "outputs": [
    {
     "name": "stdout",
     "output_type": "stream",
     "text": [
      "['banana', 'apple', 'cherry']\n"
     ]
    }
   ],
   "source": [
    "#remove\n",
    "\n",
    "fruits=['apple','banana','apple','cherry']\n",
    "fruits.remove('apple')\n",
    "print(fruits)"
   ]
  },
  {
   "cell_type": "markdown",
   "id": "ba8dd9ab",
   "metadata": {},
   "source": [
    "# DAY 2"
   ]
  },
  {
   "cell_type": "code",
   "execution_count": 3,
   "id": "ea70f739",
   "metadata": {},
   "outputs": [
    {
     "name": "stdout",
     "output_type": "stream",
     "text": [
      "['BMW', 'ford', 'volvo']\n"
     ]
    }
   ],
   "source": [
    "#sort method\n",
    "\n",
    "cars =['ford','BMW','volvo']\n",
    "cars.sort()                     #the words will be arrange in alphabetical order\n",
    "print(cars)"
   ]
  },
  {
   "cell_type": "code",
   "execution_count": 4,
   "id": "316f145c",
   "metadata": {},
   "outputs": [
    {
     "name": "stdout",
     "output_type": "stream",
     "text": [
      "Enter the word:I love Python Programming\n"
     ]
    },
    {
     "data": {
      "text/plain": [
       "['I', 'love', 'Python', 'Programming']"
      ]
     },
     "execution_count": 4,
     "metadata": {},
     "output_type": "execute_result"
    }
   ],
   "source": [
    "# Splits method\n",
    "\n",
    "text = input(\"Enter the word:\")\n",
    "text.split()"
   ]
  },
  {
   "cell_type": "markdown",
   "id": "0d8ca3c5",
   "metadata": {},
   "source": [
    "# Python tuples\n",
    "\n"
   ]
  },
  {
   "cell_type": "code",
   "execution_count": 5,
   "id": "b82f3d17",
   "metadata": {},
   "outputs": [
    {
     "name": "stdout",
     "output_type": "stream",
     "text": [
      "('parul', 22, 'Bharat', 45.5, 'vadodara', 99)\n",
      "<class 'tuple'>\n"
     ]
    }
   ],
   "source": [
    "# create tuples\n",
    "\n",
    "tup1 = (\"parul\",22,\"Bharat\",45.5,\"vadodara\",99)\n",
    "print(tup1)\n",
    "print(type(tup1))"
   ]
  },
  {
   "cell_type": "code",
   "execution_count": 6,
   "id": "6bc05ac2",
   "metadata": {},
   "outputs": [
    {
     "data": {
      "text/plain": [
       "'vadodara'"
      ]
     },
     "execution_count": 6,
     "metadata": {},
     "output_type": "execute_result"
    }
   ],
   "source": [
    "tup1[4]"
   ]
  },
  {
   "cell_type": "code",
   "execution_count": 7,
   "id": "35c478ff",
   "metadata": {},
   "outputs": [
    {
     "data": {
      "text/plain": [
       "('Bharat', 45.5)"
      ]
     },
     "execution_count": 7,
     "metadata": {},
     "output_type": "execute_result"
    }
   ],
   "source": [
    "tup1[2:4]"
   ]
  },
  {
   "cell_type": "code",
   "execution_count": 8,
   "id": "59b43633",
   "metadata": {},
   "outputs": [
    {
     "name": "stdout",
     "output_type": "stream",
     "text": [
      "('parul', 22, 'Bharat', 45.5, 'vadodara', 99, 'Python', 87)\n"
     ]
    }
   ],
   "source": [
    "tup2 = (\"Python\",87)\n",
    "\n",
    "tup3 = tup1 + tup2\n",
    "print(tup3)"
   ]
  },
  {
   "cell_type": "code",
   "execution_count": 9,
   "id": "ee0ae743",
   "metadata": {},
   "outputs": [
    {
     "ename": "TypeError",
     "evalue": "'tuple' object doesn't support item deletion",
     "output_type": "error",
     "traceback": [
      "\u001b[1;31m---------------------------------------------------------------------------\u001b[0m",
      "\u001b[1;31mTypeError\u001b[0m                                 Traceback (most recent call last)",
      "Cell \u001b[1;32mIn[9], line 3\u001b[0m\n\u001b[0;32m      1\u001b[0m \u001b[38;5;66;03m# immutable\u001b[39;00m\n\u001b[1;32m----> 3\u001b[0m \u001b[38;5;28;01mdel\u001b[39;00m tup3[\u001b[38;5;241m3\u001b[39m]           \u001b[38;5;66;03m# del is keyword used for deleting the items.\u001b[39;00m\n\u001b[0;32m      4\u001b[0m \u001b[38;5;28mprint\u001b[39m (tup3)\n",
      "\u001b[1;31mTypeError\u001b[0m: 'tuple' object doesn't support item deletion"
     ]
    }
   ],
   "source": [
    "# immutable\n",
    "\n",
    "del tup3[3]           # del is keyword used for deleting the items.\n",
    "print (tup3)"
   ]
  },
  {
   "cell_type": "code",
   "execution_count": 10,
   "id": "709d56d6",
   "metadata": {},
   "outputs": [
    {
     "name": "stdout",
     "output_type": "stream",
     "text": [
      "2\n"
     ]
    }
   ],
   "source": [
    "# count method\n",
    "\n",
    "number = (1,3,7,8,7,5,4,6,8,5)\n",
    "\n",
    "x= number.count(5)                # 5 is the element in tuple\n",
    "\n",
    "print(x)"
   ]
  },
  {
   "cell_type": "code",
   "execution_count": 11,
   "id": "df05bb83",
   "metadata": {},
   "outputs": [
    {
     "name": "stdout",
     "output_type": "stream",
     "text": [
      "3\n"
     ]
    }
   ],
   "source": [
    "# index method\n",
    "\n",
    "number = (1,3,7,8,7,5,4,6,8,5)\n",
    "\n",
    "x= number.index(8)                  # 8 is the element in tuple\n",
    "\n",
    "print(x)"
   ]
  },
  {
   "cell_type": "markdown",
   "id": "463a19b1",
   "metadata": {},
   "source": [
    "# Dictionary\n"
   ]
  },
  {
   "cell_type": "code",
   "execution_count": 12,
   "id": "631ecc9d",
   "metadata": {},
   "outputs": [
    {
     "name": "stdout",
     "output_type": "stream",
     "text": [
      "{'brands': 'Mahindra', 'model': 'thar', 'year': 2010}\n",
      "<class 'dict'>\n"
     ]
    }
   ],
   "source": [
    "cars = {'brands': 'Mahindra','model':'thar','year':2010}\n",
    "print(cars)\n",
    "print(type(cars))"
   ]
  },
  {
   "cell_type": "code",
   "execution_count": 13,
   "id": "ca28109e",
   "metadata": {},
   "outputs": [
    {
     "name": "stdout",
     "output_type": "stream",
     "text": [
      "thar\n"
     ]
    }
   ],
   "source": [
    "print(cars['model'])     # accesssing item"
   ]
  },
  {
   "cell_type": "code",
   "execution_count": 14,
   "id": "0ac68f2d",
   "metadata": {},
   "outputs": [
    {
     "name": "stdout",
     "output_type": "stream",
     "text": [
      "dict_keys(['brands', 'model', 'year'])\n"
     ]
    }
   ],
   "source": [
    "# print only key value\n",
    "print(cars.keys())"
   ]
  },
  {
   "cell_type": "code",
   "execution_count": 15,
   "id": "ff25fa50",
   "metadata": {},
   "outputs": [
    {
     "name": "stdout",
     "output_type": "stream",
     "text": [
      "dict_values(['Mahindra', 'thar', 2010])\n"
     ]
    }
   ],
   "source": [
    "# print only value\n",
    "print(cars.values())"
   ]
  },
  {
   "cell_type": "code",
   "execution_count": 16,
   "id": "0ce59d30",
   "metadata": {},
   "outputs": [
    {
     "data": {
      "text/plain": [
       "dict_items([('brands', 'Mahindra'), ('model', 'thar'), ('year', 2010)])"
      ]
     },
     "execution_count": 16,
     "metadata": {},
     "output_type": "execute_result"
    }
   ],
   "source": [
    "cars.items()           # to access all keys, value"
   ]
  },
  {
   "cell_type": "code",
   "execution_count": 17,
   "id": "cd9b767d",
   "metadata": {},
   "outputs": [
    {
     "data": {
      "text/plain": [
       "{'brands': 'Mahindra', 'model': 'thar', 'year': 2012}"
      ]
     },
     "execution_count": 17,
     "metadata": {},
     "output_type": "execute_result"
    }
   ],
   "source": [
    "# update method\n",
    "\n",
    "cars.update({\"year\":2012})\n",
    "cars"
   ]
  },
  {
   "cell_type": "code",
   "execution_count": 18,
   "id": "bb5b4ee4",
   "metadata": {},
   "outputs": [
    {
     "name": "stdout",
     "output_type": "stream",
     "text": [
      "{'brands': 'Mahindra', 'model': 'thar', 'year': 2012, 'color': 'black'}\n"
     ]
    }
   ],
   "source": [
    "# adding items\n",
    "\n",
    "cars['color'] = 'black'        # to add key value pair\n",
    "print(cars)"
   ]
  },
  {
   "cell_type": "code",
   "execution_count": 19,
   "id": "eb185d29",
   "metadata": {},
   "outputs": [
    {
     "data": {
      "text/plain": [
       "{'brands': 'Mahindra', 'year': 2012, 'color': 'black'}"
      ]
     },
     "execution_count": 19,
     "metadata": {},
     "output_type": "execute_result"
    }
   ],
   "source": [
    "# removing items\n",
    "\n",
    "cars.pop('model')\n",
    "cars"
   ]
  },
  {
   "cell_type": "markdown",
   "id": "f71ff7ae",
   "metadata": {},
   "source": [
    "# Sets\n"
   ]
  },
  {
   "cell_type": "code",
   "execution_count": 20,
   "id": "030334ea",
   "metadata": {},
   "outputs": [
    {
     "name": "stdout",
     "output_type": "stream",
     "text": [
      "{'maths', 'physics', 'Hindi', 'chemistry', 'hindi'}\n",
      "<class 'set'>\n"
     ]
    }
   ],
   "source": [
    "sub1 = {'physics', 'Hindi','chemistry','maths','hindi'}\n",
    "print(sub1)\n",
    "print(type(sub1))"
   ]
  },
  {
   "cell_type": "code",
   "execution_count": 22,
   "id": "49080a02",
   "metadata": {},
   "outputs": [
    {
     "name": "stdout",
     "output_type": "stream",
     "text": [
      "{'social science', 'history', 'biology', 'hindi'}\n"
     ]
    }
   ],
   "source": [
    "sub2 = {'history', 'social science','biology','hindi'}\n",
    "print(sub2)"
   ]
  },
  {
   "cell_type": "code",
   "execution_count": 23,
   "id": "fe47b3f8",
   "metadata": {},
   "outputs": [
    {
     "data": {
      "text/plain": [
       "{'Hindi',\n",
       " 'biology',\n",
       " 'chemistry',\n",
       " 'hindi',\n",
       " 'history',\n",
       " 'maths',\n",
       " 'physics',\n",
       " 'social science'}"
      ]
     },
     "execution_count": 23,
     "metadata": {},
     "output_type": "execute_result"
    }
   ],
   "source": [
    "sub1|sub2             # this pipe symbole used to make union of two sets"
   ]
  },
  {
   "cell_type": "code",
   "execution_count": 24,
   "id": "94d56a8b",
   "metadata": {},
   "outputs": [
    {
     "data": {
      "text/plain": [
       "{'hindi'}"
      ]
     },
     "execution_count": 24,
     "metadata": {},
     "output_type": "execute_result"
    }
   ],
   "source": [
    "sub1.intersection(sub2)       #intersection keywords uses"
   ]
  },
  {
   "cell_type": "markdown",
   "id": "6aa5af4e",
   "metadata": {},
   "source": [
    "# Python built in function in data type"
   ]
  },
  {
   "cell_type": "code",
   "execution_count": 25,
   "id": "9b79b307",
   "metadata": {},
   "outputs": [
    {
     "data": {
      "text/plain": [
       "3"
      ]
     },
     "execution_count": 25,
     "metadata": {},
     "output_type": "execute_result"
    }
   ],
   "source": [
    "# len function\n",
    "fruits =['apple','banana','cherry']\n",
    "len(fruits)"
   ]
  },
  {
   "cell_type": "code",
   "execution_count": 27,
   "id": "5b85100e",
   "metadata": {},
   "outputs": [
    {
     "data": {
      "text/plain": [
       "5"
      ]
     },
     "execution_count": 27,
     "metadata": {},
     "output_type": "execute_result"
    }
   ],
   "source": [
    "len(fruits[0])"
   ]
  },
  {
   "cell_type": "code",
   "execution_count": 26,
   "id": "e15e8d50",
   "metadata": {},
   "outputs": [
    {
     "data": {
      "text/plain": [
       "15"
      ]
     },
     "execution_count": 26,
     "metadata": {},
     "output_type": "execute_result"
    }
   ],
   "source": [
    "name ='Shivaji Maharaj'    #count the space as well\n",
    "len(name)"
   ]
  },
  {
   "cell_type": "code",
   "execution_count": 30,
   "id": "133a110f",
   "metadata": {},
   "outputs": [
    {
     "data": {
      "text/plain": [
       "['Actor', 'Movie', 'year']"
      ]
     },
     "execution_count": 30,
     "metadata": {},
     "output_type": "execute_result"
    }
   ],
   "source": [
    "# Sorted function\n",
    "\n",
    "theater ={'Movie':'Pushpa','Actor':'Arjun','year':2021}\n",
    "sorted(theater)"
   ]
  },
  {
   "cell_type": "code",
   "execution_count": 31,
   "id": "317efc60",
   "metadata": {},
   "outputs": [
    {
     "data": {
      "text/plain": [
       "9"
      ]
     },
     "execution_count": 31,
     "metadata": {},
     "output_type": "execute_result"
    }
   ],
   "source": [
    "# Max function\n",
    "number = [1,2,6,8,4,9,0,4]\n",
    "max(number)"
   ]
  },
  {
   "cell_type": "code",
   "execution_count": 32,
   "id": "82a873a4",
   "metadata": {},
   "outputs": [
    {
     "data": {
      "text/plain": [
       "36"
      ]
     },
     "execution_count": 32,
     "metadata": {},
     "output_type": "execute_result"
    }
   ],
   "source": [
    "# sum function\n",
    "number =[1,3,7,6,7,9,3]\n",
    "sum(number)"
   ]
  },
  {
   "cell_type": "code",
   "execution_count": 33,
   "id": "8d0e0794",
   "metadata": {},
   "outputs": [
    {
     "data": {
      "text/plain": [
       "['__add__',\n",
       " '__class__',\n",
       " '__contains__',\n",
       " '__delattr__',\n",
       " '__dir__',\n",
       " '__doc__',\n",
       " '__eq__',\n",
       " '__format__',\n",
       " '__ge__',\n",
       " '__getattribute__',\n",
       " '__getitem__',\n",
       " '__getnewargs__',\n",
       " '__getstate__',\n",
       " '__gt__',\n",
       " '__hash__',\n",
       " '__init__',\n",
       " '__init_subclass__',\n",
       " '__iter__',\n",
       " '__le__',\n",
       " '__len__',\n",
       " '__lt__',\n",
       " '__mod__',\n",
       " '__mul__',\n",
       " '__ne__',\n",
       " '__new__',\n",
       " '__reduce__',\n",
       " '__reduce_ex__',\n",
       " '__repr__',\n",
       " '__rmod__',\n",
       " '__rmul__',\n",
       " '__setattr__',\n",
       " '__sizeof__',\n",
       " '__str__',\n",
       " '__subclasshook__',\n",
       " 'capitalize',\n",
       " 'casefold',\n",
       " 'center',\n",
       " 'count',\n",
       " 'encode',\n",
       " 'endswith',\n",
       " 'expandtabs',\n",
       " 'find',\n",
       " 'format',\n",
       " 'format_map',\n",
       " 'index',\n",
       " 'isalnum',\n",
       " 'isalpha',\n",
       " 'isascii',\n",
       " 'isdecimal',\n",
       " 'isdigit',\n",
       " 'isidentifier',\n",
       " 'islower',\n",
       " 'isnumeric',\n",
       " 'isprintable',\n",
       " 'isspace',\n",
       " 'istitle',\n",
       " 'isupper',\n",
       " 'join',\n",
       " 'ljust',\n",
       " 'lower',\n",
       " 'lstrip',\n",
       " 'maketrans',\n",
       " 'partition',\n",
       " 'removeprefix',\n",
       " 'removesuffix',\n",
       " 'replace',\n",
       " 'rfind',\n",
       " 'rindex',\n",
       " 'rjust',\n",
       " 'rpartition',\n",
       " 'rsplit',\n",
       " 'rstrip',\n",
       " 'split',\n",
       " 'splitlines',\n",
       " 'startswith',\n",
       " 'strip',\n",
       " 'swapcase',\n",
       " 'title',\n",
       " 'translate',\n",
       " 'upper',\n",
       " 'zfill']"
      ]
     },
     "execution_count": 33,
     "metadata": {},
     "output_type": "execute_result"
    }
   ],
   "source": [
    "# Dir function\n",
    "dir(str)"
   ]
  },
  {
   "cell_type": "markdown",
   "id": "8bc32091",
   "metadata": {},
   "source": [
    "# Type casting"
   ]
  },
  {
   "cell_type": "code",
   "execution_count": 1,
   "id": "5554fb7b",
   "metadata": {},
   "outputs": [
    {
     "name": "stdout",
     "output_type": "stream",
     "text": [
      "<class 'int'>\n",
      "<class 'float'>\n"
     ]
    }
   ],
   "source": [
    "n =10\n",
    "print(type(n))\n",
    "\n",
    "n = float(n)          # converted to float\n",
    "print(type(n))"
   ]
  },
  {
   "cell_type": "code",
   "execution_count": 2,
   "id": "150e2a84",
   "metadata": {},
   "outputs": [
    {
     "name": "stdout",
     "output_type": "stream",
     "text": [
      "<class 'str'>\n"
     ]
    }
   ],
   "source": [
    "n =10\n",
    "n= str(n)\n",
    "print(type(n))"
   ]
  },
  {
   "cell_type": "code",
   "execution_count": 3,
   "id": "89586cda",
   "metadata": {},
   "outputs": [
    {
     "name": "stdout",
     "output_type": "stream",
     "text": [
      "<class 'set'>\n",
      "<class 'tuple'>\n"
     ]
    }
   ],
   "source": [
    "fruits = {'apple','banana','cheery'}\n",
    "print(type(fruits))\n",
    "\n",
    "fruits = tuple(fruits)         #converted to tupke\n",
    "print(type(fruits))"
   ]
  },
  {
   "cell_type": "markdown",
   "id": "5af907a9",
   "metadata": {},
   "source": [
    "# Function"
   ]
  },
  {
   "cell_type": "code",
   "execution_count": 9,
   "id": "62ebb337",
   "metadata": {},
   "outputs": [
    {
     "name": "stdout",
     "output_type": "stream",
     "text": [
      "the sum is:  8\n"
     ]
    }
   ],
   "source": [
    "def add_number(num1, num2):\n",
    "    result = num1+num2\n",
    "    return result\n",
    "\n",
    "sum_result = add_number(5,3)\n",
    "print(\"the sum is: \",sum_result)"
   ]
  },
  {
   "cell_type": "markdown",
   "id": "fd5615e3",
   "metadata": {},
   "source": [
    "# Python Conditional Statement"
   ]
  },
  {
   "cell_type": "markdown",
   "id": "1f045eaa",
   "metadata": {},
   "source": [
    "### Python if Statement"
   ]
  },
  {
   "cell_type": "code",
   "execution_count": 10,
   "id": "0dd9e18f",
   "metadata": {},
   "outputs": [
    {
     "name": "stdout",
     "output_type": "stream",
     "text": [
      "Number is positive\n",
      "the if statment is easy\n"
     ]
    }
   ],
   "source": [
    "number = 10\n",
    "if number > 0:\n",
    "    print('Number is positive')\n",
    "    \n",
    "print('the if statment is easy')    "
   ]
  },
  {
   "cell_type": "markdown",
   "id": "96f69fe8",
   "metadata": {},
   "source": [
    "### Python if....else Statement"
   ]
  },
  {
   "cell_type": "code",
   "execution_count": 11,
   "id": "14ecb0f7",
   "metadata": {},
   "outputs": [
    {
     "name": "stdout",
     "output_type": "stream",
     "text": [
      "Positive Statment\n",
      "the if statment is easy\n"
     ]
    }
   ],
   "source": [
    "number = 10\n",
    "if number > 0:\n",
    "    print('Positive Statment')\n",
    "    \n",
    "else:\n",
    "    print('Negative Statement')\n",
    "    \n",
    "print('the if statment is easy') "
   ]
  },
  {
   "cell_type": "markdown",
   "id": "13050535",
   "metadata": {},
   "source": [
    "### Elif Statement"
   ]
  },
  {
   "cell_type": "code",
   "execution_count": 13,
   "id": "99b74bd4",
   "metadata": {},
   "outputs": [
    {
     "name": "stdout",
     "output_type": "stream",
     "text": [
      "Enter Number 6\n",
      "Positive Statment\n",
      "the if statment is easy\n"
     ]
    }
   ],
   "source": [
    "number = int(input(\"Enter Number \"))\n",
    "\n",
    "if number > 0:\n",
    "    print('Positive Statment')\n",
    "    \n",
    "elif number ==0:\n",
    "    print('Zero')\n",
    "    \n",
    "else:\n",
    "    print('Negative Statement')\n",
    "    \n",
    "print('the if statment is easy') "
   ]
  },
  {
   "cell_type": "markdown",
   "id": "0cd602cf",
   "metadata": {},
   "source": [
    "# DAY 4"
   ]
  },
  {
   "cell_type": "markdown",
   "id": "dcc83933",
   "metadata": {},
   "source": [
    "# While loop"
   ]
  },
  {
   "cell_type": "code",
   "execution_count": 1,
   "id": "66c44824",
   "metadata": {},
   "outputs": [
    {
     "name": "stdout",
     "output_type": "stream",
     "text": [
      "Hello World\n",
      "Hello World\n",
      "Hello World\n"
     ]
    }
   ],
   "source": [
    "counter = 0 \n",
    "while counter < 3:\n",
    "    print('Hello World')\n",
    "    counter = counter +1"
   ]
  },
  {
   "cell_type": "markdown",
   "id": "7a9a8214",
   "metadata": {},
   "source": [
    "# For loop\n",
    "  \n",
    "  #### use of range() to define a range of value- range(Start, stop, step)"
   ]
  },
  {
   "cell_type": "code",
   "execution_count": 2,
   "id": "7401fe45",
   "metadata": {},
   "outputs": [
    {
     "name": "stdout",
     "output_type": "stream",
     "text": [
      "0\n",
      "1\n",
      "2\n",
      "3\n",
      "4\n",
      "5\n",
      "6\n",
      "7\n",
      "8\n",
      "9\n"
     ]
    }
   ],
   "source": [
    "for i in range(10):\n",
    "    print(i)"
   ]
  },
  {
   "cell_type": "code",
   "execution_count": 3,
   "id": "34ca5658",
   "metadata": {},
   "outputs": [
    {
     "name": "stdout",
     "output_type": "stream",
     "text": [
      "P\n",
      "y\n",
      "t\n",
      "h\n",
      "o\n",
      "n\n"
     ]
    }
   ],
   "source": [
    "for letter in \"Python\":\n",
    "    print(letter)"
   ]
  },
  {
   "cell_type": "code",
   "execution_count": 9,
   "id": "deaa400a",
   "metadata": {},
   "outputs": [
    {
     "name": "stdout",
     "output_type": "stream",
     "text": [
      "-100\n",
      "-95\n",
      "-90\n",
      "-85\n",
      "-80\n",
      "-75\n",
      "-70\n",
      "-65\n",
      "-60\n",
      "-55\n",
      "-50\n",
      "-45\n",
      "-40\n",
      "-35\n",
      "-30\n",
      "-25\n",
      "-20\n",
      "-15\n",
      "-10\n",
      "-5\n"
     ]
    }
   ],
   "source": [
    "for i in range(-100,0,5):\n",
    "    print(i)\n"
   ]
  },
  {
   "cell_type": "code",
   "execution_count": 11,
   "id": "09e4e5a0",
   "metadata": {},
   "outputs": [
    {
     "name": "stdout",
     "output_type": "stream",
     "text": [
      "apple\n",
      "banana\n",
      "cheery\n"
     ]
    }
   ],
   "source": [
    "fruits = ['apple','banana', 'cheery']\n",
    "\n",
    "for fruit in fruits:\n",
    "    print(fruit)"
   ]
  },
  {
   "cell_type": "markdown",
   "id": "cee02ab4",
   "metadata": {},
   "source": [
    "# Python Expression Statement\n",
    "\n",
    "### Pass Statement"
   ]
  },
  {
   "cell_type": "code",
   "execution_count": 12,
   "id": "b9ae7fb9",
   "metadata": {},
   "outputs": [],
   "source": [
    "n =10\n",
    "# use pass inside if statement\n",
    "\n",
    "if n > 10:\n",
    "    pass\n"
   ]
  },
  {
   "cell_type": "markdown",
   "id": "23e87e43",
   "metadata": {},
   "source": [
    "### Del Statement\n"
   ]
  },
  {
   "cell_type": "code",
   "execution_count": 13,
   "id": "5804e5d6",
   "metadata": {},
   "outputs": [
    {
     "name": "stdout",
     "output_type": "stream",
     "text": [
      "['Chemistry', 'maths']\n"
     ]
    }
   ],
   "source": [
    "x = [\"physics\",\"Chemistry\",\"maths\"]\n",
    "\n",
    "del x[0]\n",
    "print(x)"
   ]
  },
  {
   "cell_type": "markdown",
   "id": "1adebd77",
   "metadata": {},
   "source": [
    "### Break Statement"
   ]
  },
  {
   "cell_type": "code",
   "execution_count": 15,
   "id": "212b69b2",
   "metadata": {},
   "outputs": [
    {
     "name": "stdout",
     "output_type": "stream",
     "text": [
      "1\n",
      "2\n",
      "3\n"
     ]
    }
   ],
   "source": [
    "i = 1\n",
    "while i<9:\n",
    "    print(i)\n",
    "    if i ==3:\n",
    "        break\n",
    "    i += 1    "
   ]
  },
  {
   "cell_type": "markdown",
   "id": "fc1fc95b",
   "metadata": {},
   "source": [
    "### Continue Statement\n"
   ]
  },
  {
   "cell_type": "code",
   "execution_count": 16,
   "id": "63279ceb",
   "metadata": {},
   "outputs": [
    {
     "name": "stdout",
     "output_type": "stream",
     "text": [
      "1\n",
      "2\n",
      "4\n",
      "5\n",
      "6\n",
      "7\n",
      "8\n",
      "9\n",
      "10\n"
     ]
    }
   ],
   "source": [
    "i = 0\n",
    "while i<10:\n",
    "    i+=1\n",
    "    if i == 3:\n",
    "        continue\n",
    "    print(i)    "
   ]
  },
  {
   "cell_type": "markdown",
   "id": "9e1b5ae4",
   "metadata": {},
   "source": [
    "# Question 1\n"
   ]
  },
  {
   "cell_type": "code",
   "execution_count": 20,
   "id": "9c4961e1",
   "metadata": {},
   "outputs": [
    {
     "name": "stdout",
     "output_type": "stream",
     "text": [
      "Total bill amount:  5.6\n"
     ]
    }
   ],
   "source": [
    "def calculate_total_bill(items,prices):\n",
    "    if len(items) != len(prices):\n",
    "        return \"Error : The number of items and price should be the same.\"\n",
    "    \n",
    "    total_bill =0\n",
    "    for price in prices:\n",
    "        total_bill += price\n",
    "    return total_bill\n",
    "\n",
    "#example usage\n",
    "\n",
    "item_list = ['Apple','banana','milk','bread']\n",
    "price_list = [1.2,0.6,2.3,1.5]\n",
    "total_bill_amount = calculate_total_bill(item_list, price_list)\n",
    "print(\"Total bill amount: \", total_bill_amount)\n"
   ]
  },
  {
   "cell_type": "markdown",
   "id": "8aee58f2",
   "metadata": {},
   "source": [
    "# Question 2"
   ]
  },
  {
   "cell_type": "code",
   "execution_count": 27,
   "id": "7fa9d389",
   "metadata": {},
   "outputs": [
    {
     "ename": "NameError",
     "evalue": "name 'discount_items_list' is not defined",
     "output_type": "error",
     "traceback": [
      "\u001b[1;31m---------------------------------------------------------------------------\u001b[0m",
      "\u001b[1;31mNameError\u001b[0m                                 Traceback (most recent call last)",
      "Cell \u001b[1;32mIn[27], line 15\u001b[0m\n\u001b[0;32m     13\u001b[0m original_prices_list \u001b[38;5;241m=\u001b[39m[\u001b[38;5;241m10\u001b[39m,\u001b[38;5;241m5\u001b[39m,\u001b[38;5;241m8\u001b[39m,\u001b[38;5;241m12\u001b[39m]\n\u001b[0;32m     14\u001b[0m discounted_items_list \u001b[38;5;241m=\u001b[39m [\u001b[38;5;28;01mTrue\u001b[39;00m,\u001b[38;5;28;01mFalse\u001b[39;00m,\u001b[38;5;28;01mTrue\u001b[39;00m,\u001b[38;5;28;01mFalse\u001b[39;00m]\n\u001b[1;32m---> 15\u001b[0m discounted_bill_amount \u001b[38;5;241m=\u001b[39m calculate_discounted_bill(original_prices_list, discount_items_list)\n\u001b[0;32m     16\u001b[0m \u001b[38;5;28mprint\u001b[39m(\u001b[38;5;124m\"\u001b[39m\u001b[38;5;124mDiscounted bill amount: \u001b[39m\u001b[38;5;124m\"\u001b[39m, discounted_bill_amount)\n",
      "\u001b[1;31mNameError\u001b[0m: name 'discount_items_list' is not defined"
     ]
    }
   ],
   "source": [
    "def calculate_discounted_bill(original_prices, discount_items):\n",
    "    discounted_bill =0\n",
    "    for i in range(len(original_prices)):\n",
    "        if discount_items[i]:\n",
    "            discount_bill += original_prices[i] * 0.9\n",
    "        else:\n",
    "                discounted_bill += original_prices[i]\n",
    "        return discounted_bill\n",
    "    \n",
    "    \n",
    "# example usage\n",
    "\n",
    "original_prices_list =[10,5,8,12]\n",
    "discounted_items_list = [True,False,True,False]\n",
    "discounted_bill_amount = calculate_discounted_bill(original_prices_list, discount_items_list)\n",
    "print(\"Discounted bill amount: \", discounted_bill_amount)\n",
    "                "
   ]
  },
  {
   "cell_type": "markdown",
   "id": "dacd841d",
   "metadata": {},
   "source": [
    "# Lambda Function"
   ]
  },
  {
   "cell_type": "markdown",
   "id": "62bae28e",
   "metadata": {},
   "source": [
    "#### lambda argument : Expression      \n",
    "\n",
    "\n",
    "###### syntax"
   ]
  },
  {
   "cell_type": "code",
   "execution_count": 28,
   "id": "8b43cb49",
   "metadata": {},
   "outputs": [
    {
     "name": "stdout",
     "output_type": "stream",
     "text": [
      "15\n"
     ]
    }
   ],
   "source": [
    "x = lambda a: (a+10)\n",
    "print(x(5))"
   ]
  },
  {
   "cell_type": "code",
   "execution_count": 29,
   "id": "a2327c10",
   "metadata": {},
   "outputs": [
    {
     "name": "stdout",
     "output_type": "stream",
     "text": [
      "30\n"
     ]
    }
   ],
   "source": [
    "x = lambda a,b : a*b\n",
    "print(x(5,6))"
   ]
  },
  {
   "cell_type": "markdown",
   "id": "bc4957f0",
   "metadata": {},
   "source": [
    "# Exception handling"
   ]
  },
  {
   "cell_type": "markdown",
   "id": "d1cdc2e7",
   "metadata": {},
   "source": [
    "### 1.Try-except block"
   ]
  },
  {
   "cell_type": "code",
   "execution_count": 31,
   "id": "409f16ee",
   "metadata": {},
   "outputs": [
    {
     "name": "stdout",
     "output_type": "stream",
     "text": [
      "Enter the numerator10\n",
      "Enter the denominator10.1\n",
      "Error : Please enter valid integer for num and dem\n"
     ]
    }
   ],
   "source": [
    "try:\n",
    "    numerator = int(input(\"Enter the numerator\"))\n",
    "    denominator =int(input(\"Enter the denominator\"))\n",
    "    result = numerator/denominator\n",
    "    print(\"Result: \",result)\n",
    "    \n",
    "except ZeroDivisionError:\n",
    "    print(\"Error: Cannot divisible by zero\")\n",
    " \n",
    "except ValueError:\n",
    "    print(\"Error : Please enter valid integer for num and dem\")"
   ]
  },
  {
   "cell_type": "markdown",
   "id": "045eb4f9",
   "metadata": {},
   "source": [
    "### 2. Try-except-else block"
   ]
  },
  {
   "cell_type": "code",
   "execution_count": 33,
   "id": "346e8a25",
   "metadata": {},
   "outputs": [
    {
     "name": "stdout",
     "output_type": "stream",
     "text": [
      "Enter the number: 1.2\n",
      "Error: Please Enter a valid integer\n"
     ]
    }
   ],
   "source": [
    "try:\n",
    "    number =int(input(\"Enter the number: \"))\n",
    "except ValueError:\n",
    "    print(\"Error: Please Enter a valid integer\")\n",
    "else:\n",
    "    square = number**2\n",
    "    print(\"Square of the number: \",square)"
   ]
  },
  {
   "cell_type": "markdown",
   "id": "28446eb9",
   "metadata": {},
   "source": [
    "### 3. Try-except-finally block"
   ]
  },
  {
   "cell_type": "code",
   "execution_count": 37,
   "id": "1183c8fe",
   "metadata": {},
   "outputs": [
    {
     "name": "stdout",
     "output_type": "stream",
     "text": [
      "Jai Shree Ram\n"
     ]
    }
   ],
   "source": [
    "try:\n",
    "    file = open(\"data.txt\", \"r\")\n",
    "    content = file.read()\n",
    "    print(content)\n",
    "\n",
    "except FileNotFoundError:\n",
    "    print(\"Error: File not Found.\")\n",
    "    \n",
    "finally:\n",
    "    if 'file' in locals():\n",
    "        file.close()"
   ]
  },
  {
   "cell_type": "code",
   "execution_count": null,
   "id": "d267d762",
   "metadata": {},
   "outputs": [],
   "source": []
  }
 ],
 "metadata": {
  "kernelspec": {
   "display_name": "Python 3 (ipykernel)",
   "language": "python",
   "name": "python3"
  },
  "language_info": {
   "codemirror_mode": {
    "name": "ipython",
    "version": 3
   },
   "file_extension": ".py",
   "mimetype": "text/x-python",
   "name": "python",
   "nbconvert_exporter": "python",
   "pygments_lexer": "ipython3",
   "version": "3.11.5"
  }
 },
 "nbformat": 4,
 "nbformat_minor": 5
}
